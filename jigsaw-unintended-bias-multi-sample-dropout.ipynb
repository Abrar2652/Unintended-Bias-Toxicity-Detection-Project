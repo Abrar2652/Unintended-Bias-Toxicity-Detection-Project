{
 "cells": [
  {
   "cell_type": "markdown",
   "id": "complete-burden",
   "metadata": {
    "papermill": {
     "duration": 0.013951,
     "end_time": "2021-06-25T17:23:49.025401",
     "exception": false,
     "start_time": "2021-06-25T17:23:49.011450",
     "status": "completed"
    },
    "tags": []
   },
   "source": [
    "## Summary\n",
    "* I ensambled BERT-base-uncased, BERT-large-uncased, GPT2, XLNET models (simple average)\n",
    "* Though I tried text preprocessing, but it seems to have no obvious improvement on LB score in this competition.\n",
    "* Label preprocessing -- Most effective trick for me.\n",
    "* Multi-Sample Dropout from here https://arxiv.org/abs/1905.09788 -- increase LB a little and the training gets stabler (loss decreases stabler).\n",
    "* Training model using toxicity score as additional label (Thanks to Dieter for this kernel: https://www.kaggle.com/christofhenkel/how-to-preprocessing-for-glove-part2-usage ) -- Improved my BERT-base and GPT2\n",
    "* Training model using BCELoss with sample weight (Thanks to Dieter for the same kernel). I applied this trick to all of my models.\n",
    "\n",
    "## Label Preprocessing\n",
    "I do something like this:\n",
    "\n",
    "`labels = [(df['target'].values&gt;=rate/(args.bin+1)).astype(np.int) for rate in range(1, args.bin+1)]`\n",
    "\n",
    "Here `args.bin` is a hyper-parameter defined how many class to generated. For example, if we have origin label `[0.33, 0.05, 1.0, 0.58, 0.0]` , and `args.bin = 9` , we will get output like this: `array([[1, 1, 1, 0, 0, 0, 0, 0, 0], # 0.33 [0, 0, 0, 0, 0, 0, 0, 0, 0], # 0.05 [1, 1, 1, 1, 1, 1, 1, 1, 1], # 1.0 [1, 1, 1, 1, 1, 0, 0, 0, 0], # 0.58 [0, 0, 0, 0, 0, 0, 0, 0, 0]]) # 0.0` Then I treat each column as binary class label, and train it using BCELoss. When doing predicting, simply take the mean value of all columns as final prediction.\n",
    "\n",
    "I used `args.bin=29` for BERT-base and GPT2, `args.bin=99` for BERT-large, `args.bin=9` for XLNET, for final submission. These are decided by only a few experiments since the limitation of compute resource, maybe not the best ones.\n",
    "\n",
    "## Multi-Sample Dropout\n",
    "https://arxiv.org/abs/1905.09788\n",
    "\n",
    "One advantage of models like BERT, GPT2, XLNET is that they have been pretrained on large scale text data. Which means we can fine-tune them on our own dataset in a relatively short time period and get good result, compared to train from the scratch. However, there is also a drawback, that is, we cannot modify the architecture of these models.\n",
    "\n",
    "In this situation, I came out with Multi-Sample Dropout, which can be easily apply to fc layers at the end of these models. Experiments shown that it can decrease the loss stabler while training and make the model generalize better.\n",
    "\n",
    "I applied this trick to all of my models. 5 dropout layers with different mask and p=0.5 have been used parallel followed the basic BERT model, then pass the output of each dropout layer to a shared weight fc layer, finally I take the average of the outputs from fc layer as final output. This process is shown by following figure.\n",
    "\n",
    "![BERT](https://www.googleapis.com/download/storage/v1/b/kaggle-user-content/o/inbox%2F448347%2Fe7da45582176dd2a4dbdc7e7bd37ca8b%2F2019-07-22%2019.11.42.png?generation=1563790324431533&alt=media)"
   ]
  },
  {
   "cell_type": "code",
   "execution_count": 1,
   "id": "indie-swedish",
   "metadata": {
    "execution": {
     "iopub.execute_input": "2021-06-25T17:23:49.059766Z",
     "iopub.status.busy": "2021-06-25T17:23:49.059251Z",
     "iopub.status.idle": "2021-06-25T17:23:49.063132Z",
     "shell.execute_reply": "2021-06-25T17:23:49.062636Z"
    },
    "papermill": {
     "duration": 0.02511,
     "end_time": "2021-06-25T17:23:49.063250",
     "exception": false,
     "start_time": "2021-06-25T17:23:49.038140",
     "status": "completed"
    },
    "tags": []
   },
   "outputs": [],
   "source": [
    "debug = False"
   ]
  },
  {
   "cell_type": "code",
   "execution_count": 2,
   "id": "executive-senior",
   "metadata": {
    "execution": {
     "iopub.execute_input": "2021-06-25T17:23:49.093999Z",
     "iopub.status.busy": "2021-06-25T17:23:49.092730Z",
     "iopub.status.idle": "2021-06-25T17:23:49.094948Z",
     "shell.execute_reply": "2021-06-25T17:23:49.095354Z"
    },
    "papermill": {
     "duration": 0.019482,
     "end_time": "2021-06-25T17:23:49.095470",
     "exception": false,
     "start_time": "2021-06-25T17:23:49.075988",
     "status": "completed"
    },
    "tags": []
   },
   "outputs": [],
   "source": [
    "import time\n",
    "start_time = time.time()\n",
    "import sys\n",
    "package_dir = \"../input/pytorchpretrainedberthaqishen/pytorch-pretrained-bert/pytorch-pretrained-BERT/\"\n",
    "sys.path = [package_dir] + sys.path"
   ]
  },
  {
   "cell_type": "code",
   "execution_count": 3,
   "id": "biblical-adams",
   "metadata": {
    "_cell_guid": "b1076dfc-b9ad-4769-8c92-a6c4dae69d19",
    "_uuid": "8f2839f25d086af736a60e9eeb907d3b93b6e0e5",
    "execution": {
     "iopub.execute_input": "2021-06-25T17:23:49.146812Z",
     "iopub.status.busy": "2021-06-25T17:23:49.134641Z",
     "iopub.status.idle": "2021-06-25T17:23:51.983729Z",
     "shell.execute_reply": "2021-06-25T17:23:51.982906Z"
    },
    "papermill": {
     "duration": 2.875849,
     "end_time": "2021-06-25T17:23:51.984082",
     "exception": false,
     "start_time": "2021-06-25T17:23:49.108233",
     "status": "completed"
    },
    "tags": []
   },
   "outputs": [
    {
     "name": "stdout",
     "output_type": "stream",
     "text": [
      "Import done! Time past 2.89 secs\n"
     ]
    }
   ],
   "source": [
    "import os\n",
    "import pickle\n",
    "import argparse\n",
    "import multiprocessing\n",
    "import numpy as np\n",
    "import pandas as pd\n",
    "\n",
    "import torch\n",
    "from torch import nn\n",
    "from torch.utils.data import (DataLoader, RandomSampler, SequentialSampler,\n",
    "                              TensorDataset)\n",
    "from pytorch_pretrained_bert.modeling import BertForSequenceClassification, BertConfig, BertModel, BertPreTrainedModel\n",
    "from pytorch_pretrained_bert.tokenization import BertTokenizer\n",
    "from pytorch_pretrained_bert.modeling_gpt2 import GPT2Config, GPT2Model, GPT2PreTrainedModel\n",
    "from pytorch_pretrained_bert.tokenization_gpt2 import GPT2Tokenizer\n",
    "from pytorch_pretrained_bert.modeling_xlnet import XLNetConfig, XLNetModel, XLNetPreTrainedModel\n",
    "from pytorch_pretrained_bert.tokenization_xlnet import XLNetTokenizer\n",
    "\n",
    "from scipy.stats import rankdata\n",
    "from nltk.tokenize.treebank import TreebankWordTokenizer\n",
    "Ttokenizer = TreebankWordTokenizer()\n",
    "\n",
    "symbols_to_isolate = '.,?!-;*\"…:—()%#$&_/@＼・ω+=”“[]^–>\\\\°<~•≠™ˈʊɒ∞§{}·τα❤☺ɡ|¢→̶`❥━┣┫┗Ｏ►★©―ɪ✔®\\x96\\x92●£♥➤´¹☕≈÷♡◐║▬′ɔː€۩۞†μ✒➥═☆ˌ◄½ʻπδηλσερνʃ✬ＳＵＰＥＲＩＴ☻±♍µº¾✓◾؟．⬅℅»Вав❣⋅¿¬♫ＣＭβ█▓▒░⇒⭐›¡₂₃❧▰▔◞▀▂▃▄▅▆▇↙γ̄″☹➡«φ⅓„✋：¥̲̅́∙‛◇✏▷❓❗¶˚˙）сиʿ✨。ɑ\\x80◕！％¯−ﬂﬁ₁²ʌ¼⁴⁄₄⌠♭✘╪▶☭✭♪☔☠♂☃☎✈✌✰❆☙○‣⚓年∎ℒ▪▙☏⅛ｃａｓǀ℮¸ｗ‚∼‖ℳ❄←☼⋆ʒ⊂、⅔¨͡๏⚾⚽Φ×θ￦？（℃⏩☮⚠月✊❌⭕▸■⇌☐☑⚡☄ǫ╭∩╮，例＞ʕɐ̣Δ₀✞┈╱╲▏▕┃╰▊▋╯┳┊≥☒↑☝ɹ✅☛♩☞ＡＪＢ◔◡↓♀⬆̱ℏ\\x91⠀ˤ╚↺⇤∏✾◦♬³の｜／∵∴√Ω¤☜▲↳▫‿⬇✧ｏｖｍ－２０８＇‰≤∕ˆ⚜☁'\n",
    "symbols_to_delete = '\\n🍕\\r🐵😑\\xa0\\ue014\\t\\uf818\\uf04a\\xad😢🐶️\\uf0e0😜😎👊\\u200b\\u200e😁عدويهصقأناخلىبمغر😍💖💵Е👎😀😂\\u202a\\u202c🔥😄🏻💥ᴍʏʀᴇɴᴅᴏᴀᴋʜᴜʟᴛᴄᴘʙғᴊᴡɢ😋👏שלוםבי😱‼\\x81エンジ故障\\u2009🚌ᴵ͞🌟😊😳😧🙀😐😕\\u200f👍😮😃😘אעכח💩💯⛽🚄🏼ஜ😖ᴠ🚲‐😟😈💪🙏🎯🌹😇💔😡\\x7f👌ἐὶήιὲκἀίῃἴξ🙄Ｈ😠\\ufeff\\u2028😉😤⛺🙂\\u3000تحكسة👮💙فزط😏🍾🎉😞\\u2008🏾😅😭👻😥😔😓🏽🎆🍻🍽🎶🌺🤔😪\\x08‑🐰🐇🐱🙆😨🙃💕𝘊𝘦𝘳𝘢𝘵𝘰𝘤𝘺𝘴𝘪𝘧𝘮𝘣💗💚地獄谷улкнПоАН🐾🐕😆ה🔗🚽歌舞伎🙈😴🏿🤗🇺🇸мυтѕ⤵🏆🎃😩\\u200a🌠🐟💫💰💎эпрд\\x95🖐🙅⛲🍰🤐👆🙌\\u2002💛🙁👀🙊🙉\\u2004ˢᵒʳʸᴼᴷᴺʷᵗʰᵉᵘ\\x13🚬🤓\\ue602😵άοόςέὸתמדףנרךצט😒͝🆕👅👥👄🔄🔤👉👤👶👲🔛🎓\\uf0b7\\uf04c\\x9f\\x10成都😣⏺😌🤑🌏😯ех😲Ἰᾶὁ💞🚓🔔📚🏀👐\\u202d💤🍇\\ue613小土豆🏡❔⁉\\u202f👠》कर्मा🇹🇼🌸蔡英文🌞🎲レクサス😛外国人关系Сб💋💀🎄💜🤢َِьыгя不是\\x9c\\x9d🗑\\u2005💃📣👿༼つ༽😰ḷЗз▱ц￼🤣卖温哥华议会下降你失去所有的钱加拿大坏税骗子🐝ツ🎅\\x85🍺آإشء🎵🌎͟ἔ油别克🤡🤥😬🤧й\\u2003🚀🤴ʲшчИОРФДЯМюж😝🖑ὐύύ特殊作戦群щ💨圆明园קℐ🏈😺🌍⏏ệ🍔🐮🍁🍆🍑🌮🌯🤦\\u200d𝓒𝓲𝓿𝓵안영하세요ЖљКћ🍀😫🤤ῦ我出生在了可以说普通话汉语好极🎼🕺🍸🥂🗽🎇🎊🆘🤠👩🖒🚪天一家⚲\\u2006⚭⚆⬭⬯⏖新✀╌🇫🇷🇩🇪🇮🇬🇧😷🇨🇦ХШ🌐\\x1f杀鸡给猴看ʁ𝗪𝗵𝗲𝗻𝘆𝗼𝘂𝗿𝗮𝗹𝗶𝘇𝗯𝘁𝗰𝘀𝘅𝗽𝘄𝗱📺ϖ\\u2000үսᴦᎥһͺ\\u2007հ\\u2001ɩｙｅ൦ｌƽｈ𝐓𝐡𝐞𝐫𝐮𝐝𝐚𝐃𝐜𝐩𝐭𝐢𝐨𝐧Ƅᴨןᑯ໐ΤᏧ௦Іᴑ܁𝐬𝐰𝐲𝐛𝐦𝐯𝐑𝐙𝐣𝐇𝐂𝐘𝟎ԜТᗞ౦〔Ꭻ𝐳𝐔𝐱𝟔𝟓𝐅🐋ﬃ💘💓ё𝘥𝘯𝘶💐🌋🌄🌅𝙬𝙖𝙨𝙤𝙣𝙡𝙮𝙘𝙠𝙚𝙙𝙜𝙧𝙥𝙩𝙪𝙗𝙞𝙝𝙛👺🐷ℋ𝐀𝐥𝐪🚶𝙢Ἱ🤘ͦ💸ج패티Ｗ𝙇ᵻ👂👃ɜ🎫\\uf0a7БУі🚢🚂ગુજરાતીῆ🏃𝓬𝓻𝓴𝓮𝓽𝓼☘﴾̯﴿₽\\ue807𝑻𝒆𝒍𝒕𝒉𝒓𝒖𝒂𝒏𝒅𝒔𝒎𝒗𝒊👽😙\\u200cЛ‒🎾👹⎌🏒⛸公寓养宠物吗🏄🐀🚑🤷操美𝒑𝒚𝒐𝑴🤙🐒欢迎来到阿拉斯ספ𝙫🐈𝒌𝙊𝙭𝙆𝙋𝙍𝘼𝙅ﷻ🦄巨收赢得白鬼愤怒要买额ẽ🚗🐳𝟏𝐟𝟖𝟑𝟕𝒄𝟗𝐠𝙄𝙃👇锟斤拷𝗢𝟳𝟱𝟬⦁マルハニチロ株式社⛷한국어ㄸㅓ니͜ʖ𝘿𝙔₵𝒩ℯ𝒾𝓁𝒶𝓉𝓇𝓊𝓃𝓈𝓅ℴ𝒻𝒽𝓀𝓌𝒸𝓎𝙏ζ𝙟𝘃𝗺𝟮𝟭𝟯𝟲👋🦊多伦🐽🎻🎹⛓🏹🍷🦆为和中友谊祝贺与其想象对法如直接问用自己猜本传教士没积唯认识基督徒曾经让相信耶稣复活死怪他但当们聊些政治题时候战胜因圣把全堂结婚孩恐惧且栗谓这样还♾🎸🤕🤒⛑🎁批判检讨🏝🦁🙋😶쥐스탱트뤼도석유가격인상이경제황을렵게만들지않록잘관리해야합다캐나에서대마초와화약금의품런성분갈때는반드시허된사용🔫👁凸ὰ💲🗯𝙈Ἄ𝒇𝒈𝒘𝒃𝑬𝑶𝕾𝖙𝖗𝖆𝖎𝖌𝖍𝖕𝖊𝖔𝖑𝖉𝖓𝖐𝖜𝖞𝖚𝖇𝕿𝖘𝖄𝖛𝖒𝖋𝖂𝕴𝖟𝖈𝕸👑🚿💡知彼百\\uf005𝙀𝒛𝑲𝑳𝑾𝒋𝟒😦𝙒𝘾𝘽🏐𝘩𝘨ὼṑ𝑱𝑹𝑫𝑵𝑪🇰🇵👾ᓇᒧᔭᐃᐧᐦᑳᐨᓃᓂᑲᐸᑭᑎᓀᐣ🐄🎈🔨🐎🤞🐸💟🎰🌝🛳点击查版🍭𝑥𝑦𝑧ＮＧ👣\\uf020っ🏉ф💭🎥Ξ🐴👨🤳🦍\\x0b🍩𝑯𝒒😗𝟐🏂👳🍗🕉🐲چی𝑮𝗕𝗴🍒ꜥⲣⲏ🐑⏰鉄リ事件ї💊「」\\uf203\\uf09a\\uf222\\ue608\\uf202\\uf099\\uf469\\ue607\\uf410\\ue600燻製シ虚偽屁理屈Г𝑩𝑰𝒀𝑺🌤𝗳𝗜𝗙𝗦𝗧🍊ὺἈἡχῖΛ⤏🇳𝒙ψՁմեռայինրւդձ冬至ὀ𝒁🔹🤚🍎𝑷🐂💅𝘬𝘱𝘸𝘷𝘐𝘭𝘓𝘖𝘹𝘲𝘫کΒώ💢ΜΟΝΑΕ🇱♲𝝈↴💒⊘Ȼ🚴🖕🖤🥘📍👈➕🚫🎨🌑🐻𝐎𝐍𝐊𝑭🤖🎎😼🕷ｇｒｎｔｉｄｕｆｂｋ𝟰🇴🇭🇻🇲𝗞𝗭𝗘𝗤👼📉🍟🍦🌈🔭《🐊🐍\\uf10aლڡ🐦\\U0001f92f\\U0001f92a🐡💳ἱ🙇𝗸𝗟𝗠𝗷🥜さようなら🔼'\n",
    "CONTRACTION_MAPPING = {\"ain't\": \"is not\", \"aren't\": \"are not\",\"can't\": \"cannot\", \"'cause\": \"because\", \"could've\": \"could have\", \"couldn't\": \"could not\", \"didn't\": \"did not\",  \"doesn't\": \"does not\", \"don't\": \"do not\", \"hadn't\": \"had not\", \"hasn't\": \"has not\", \"haven't\": \"have not\", \"he'd\": \"he would\",\"he'll\": \"he will\", \"he's\": \"he is\", \"how'd\": \"how did\", \"how'd'y\": \"how do you\", \"how'll\": \"how will\", \"how's\": \"how is\",  \"I'd\": \"I would\", \"I'd've\": \"I would have\", \"I'll\": \"I will\", \"I'll've\": \"I will have\",\"I'm\": \"I am\", \"I've\": \"I have\", \"i'd\": \"i would\", \"i'd've\": \"i would have\", \"i'll\": \"i will\",  \"i'll've\": \"i will have\",\"i'm\": \"i am\", \"i've\": \"i have\", \"isn't\": \"is not\", \"it'd\": \"it would\", \"it'd've\": \"it would have\", \"it'll\": \"it will\", \"it'll've\": \"it will have\",\"it's\": \"it is\", \"let's\": \"let us\", \"ma'am\": \"madam\", \"mayn't\": \"may not\", \"might've\": \"might have\",\"mightn't\": \"might not\",\"mightn't've\": \"might not have\", \"must've\": \"must have\", \"mustn't\": \"must not\", \"mustn't've\": \"must not have\", \"needn't\": \"need not\", \"needn't've\": \"need not have\",\"o'clock\": \"of the clock\", \"oughtn't\": \"ought not\", \"oughtn't've\": \"ought not have\", \"shan't\": \"shall not\", \"sha'n't\": \"shall not\", \"shan't've\": \"shall not have\", \"she'd\": \"she would\", \"she'd've\": \"she would have\", \"she'll\": \"she will\", \"she'll've\": \"she will have\", \"she's\": \"she is\", \"should've\": \"should have\", \"shouldn't\": \"should not\", \"shouldn't've\": \"should not have\", \"so've\": \"so have\",\"so's\": \"so as\", \"this's\": \"this is\",\"that'd\": \"that would\", \"that'd've\": \"that would have\", \"that's\": \"that is\", \"there'd\": \"there would\", \"there'd've\": \"there would have\", \"there's\": \"there is\", \"here's\": \"here is\",\"they'd\": \"they would\", \"they'd've\": \"they would have\", \"they'll\": \"they will\", \"they'll've\": \"they will have\", \"they're\": \"they are\", \"they've\": \"they have\", \"to've\": \"to have\", \"wasn't\": \"was not\", \"we'd\": \"we would\", \"we'd've\": \"we would have\", \"we'll\": \"we will\", \"we'll've\": \"we will have\", \"we're\": \"we are\", \"we've\": \"we have\", \"weren't\": \"were not\", \"what'll\": \"what will\", \"what'll've\": \"what will have\", \"what're\": \"what are\",  \"what's\": \"what is\", \"what've\": \"what have\", \"when's\": \"when is\", \"when've\": \"when have\", \"where'd\": \"where did\", \"where's\": \"where is\", \"where've\": \"where have\", \"who'll\": \"who will\", \"who'll've\": \"who will have\", \"who's\": \"who is\", \"who've\": \"who have\", \"why's\": \"why is\", \"why've\": \"why have\", \"will've\": \"will have\", \"won't\": \"will not\", \"won't've\": \"will not have\", \"would've\": \"would have\", \"wouldn't\": \"would not\", \"wouldn't've\": \"would not have\", \"y'all\": \"you all\", \"y'all'd\": \"you all would\",\"y'all'd've\": \"you all would have\",\"y'all're\": \"you all are\",\"y'all've\": \"you all have\",\"you'd\": \"you would\", \"you'd've\": \"you would have\", \"you'll\": \"you will\", \"you'll've\": \"you will have\", \"you're\": \"you are\", \"you've\": \"you have\" }\n",
    "isolate_dict = {ord(c):f' {c} ' for c in symbols_to_isolate}\n",
    "remove_dict = {ord(c):f'' for c in symbols_to_delete}\n",
    "\n",
    "from tqdm import tqdm\n",
    "import warnings\n",
    "import traceback\n",
    "\n",
    "warnings.filterwarnings(action='once')\n",
    "device = torch.device('cuda')\n",
    "\n",
    "print('Import done! Time past %.2f secs' % (time.time() - start_time))"
   ]
  },
  {
   "cell_type": "code",
   "execution_count": 4,
   "id": "purple-sheep",
   "metadata": {
    "execution": {
     "iopub.execute_input": "2021-06-25T17:23:52.020170Z",
     "iopub.status.busy": "2021-06-25T17:23:52.019626Z",
     "iopub.status.idle": "2021-06-25T17:23:52.023771Z",
     "shell.execute_reply": "2021-06-25T17:23:52.024315Z"
    },
    "papermill": {
     "duration": 0.023746,
     "end_time": "2021-06-25T17:23:52.024499",
     "exception": false,
     "start_time": "2021-06-25T17:23:52.000753",
     "status": "completed"
    },
    "tags": []
   },
   "outputs": [
    {
     "name": "stderr",
     "output_type": "stream",
     "text": [
      "/opt/conda/lib/python3.7/site-packages/ipykernel/ipkernel.py:283: DeprecationWarning: `should_run_async` will not call `transform_cell` automatically in the future. Please pass the result to `transformed_cell` argument and any exception that happen during thetransform in `preprocessing_exc_tuple` in IPython 7.17 and above.\n",
      "  and should_run_async(code)\n"
     ]
    }
   ],
   "source": [
    "# Pandas multiprocessing\n",
    "def _apply_df(args):\n",
    "    df, func, kwargs = args\n",
    "    return df.apply(func, **kwargs)\n",
    "\n",
    "def apply_by_multiprocessing(df, func, **kwargs):\n",
    "    workers = kwargs.pop('workers')\n",
    "    pool = multiprocessing.Pool(processes=workers)\n",
    "    result = pool.map(_apply_df, [(d, func, kwargs)\n",
    "            for d in np.array_split(df, workers)])\n",
    "    pool.close()\n",
    "    return pd.concat(list(result))"
   ]
  },
  {
   "cell_type": "code",
   "execution_count": 5,
   "id": "durable-parliament",
   "metadata": {
    "execution": {
     "iopub.execute_input": "2021-06-25T17:23:52.065899Z",
     "iopub.status.busy": "2021-06-25T17:23:52.060370Z",
     "iopub.status.idle": "2021-06-25T17:23:52.070682Z",
     "shell.execute_reply": "2021-06-25T17:23:52.070262Z"
    },
    "papermill": {
     "duration": 0.031747,
     "end_time": "2021-06-25T17:23:52.070782",
     "exception": false,
     "start_time": "2021-06-25T17:23:52.039035",
     "status": "completed"
    },
    "tags": []
   },
   "outputs": [],
   "source": [
    "class BertForJigsaw(BertPreTrainedModel):\n",
    "\n",
    "    def __init__(self, config, out_dim=7):\n",
    "        super(BertForJigsaw, self).__init__(config)\n",
    "        self.bert = BertModel(config)\n",
    "        self.dropout = nn.Dropout(config.hidden_dropout_prob)\n",
    "        self.linear = nn.Linear(config.hidden_size, out_dim)\n",
    "        self.apply(self.init_bert_weights)\n",
    "\n",
    "    def forward(self, input_ids, token_type_ids=None, attention_mask=None, labels=None):\n",
    "        _, pooled_output = self.bert(input_ids, token_type_ids, attention_mask, output_all_encoded_layers=False)\n",
    "        pooled_output = self.dropout(pooled_output)\n",
    "        logits = self.linear(pooled_output)\n",
    "        return logits\n",
    "    \n",
    "class GPT2ClassificationHeadModel(GPT2PreTrainedModel):\n",
    "\n",
    "    def __init__(self, config, clf_dropout=0.4, out_dim=8):\n",
    "        super(GPT2ClassificationHeadModel, self).__init__(config)\n",
    "        self.transformer = GPT2Model(config)\n",
    "        self.linear = nn.Linear(config.n_embd * 2, out_dim)\n",
    "\n",
    "        nn.init.normal_(self.linear.weight, std = 0.02)\n",
    "        nn.init.normal_(self.linear.bias, 0)\n",
    "        self.apply(self.init_weights)\n",
    "\n",
    "    def set_num_special_tokens(self, num_special_tokens):\n",
    "        pass\n",
    "\n",
    "    def forward(self, input_ids, position_ids=None, token_type_ids=None, lm_labels=None, past=None, **kwargs):\n",
    "        hidden_states, presents = self.transformer(input_ids, position_ids, token_type_ids, past)\n",
    "        if isinstance(hidden_states, list):\n",
    "            hidden_states = hidden_states[-1]\n",
    "        avg_pool = torch.mean(hidden_states, 1)\n",
    "        max_pool, _ = torch.max(hidden_states, 1)\n",
    "        h_conc = torch.cat((avg_pool, max_pool), 1)\n",
    "        return self.linear(h_conc)\n",
    "    \n",
    "    \n",
    "class XLNetForJigSaw(XLNetPreTrainedModel):\n",
    "    def __init__(self, config, out_dim):\n",
    "        \n",
    "        super(XLNetForJigSaw, self).__init__(config)\n",
    "        self.attn_type = config.attn_type\n",
    "        self.same_length = config.same_length\n",
    "        self.summary_type = \"last\"\n",
    "\n",
    "        self.transformer = XLNetModel(config, output_attentions=False, keep_multihead_output=False)\n",
    "        self.dense = nn.Linear(config.d_model, config.d_model)\n",
    "        self.activation = nn.Tanh()\n",
    "        self.linear = nn.Linear(config.d_model, out_dim, bias=True)\n",
    "        self.apply(self.init_xlnet_weights)\n",
    "\n",
    "    def forward(self, input_ids, seg_id=None, input_mask=None,\n",
    "                mems=None, perm_mask=None, target_mapping=None, inp_q=None,\n",
    "                target=None, output_all_encoded_layers=True, head_mask=None, **kargs):\n",
    "\n",
    "        output, hidden_states, new_mems = self.transformer(input_ids, seg_id, input_mask,\n",
    "                                            mems, perm_mask, target_mapping, inp_q,\n",
    "                                            output_all_encoded_layers, head_mask)\n",
    "        first_token_tensor = output[:, 0]\n",
    "        pooled_output = self.dense(first_token_tensor)\n",
    "        pooled_output = self.activation(pooled_output)\n",
    "\n",
    "        return self.linear(pooled_output)"
   ]
  },
  {
   "cell_type": "code",
   "execution_count": 6,
   "id": "absent-northeast",
   "metadata": {
    "execution": {
     "iopub.execute_input": "2021-06-25T17:23:52.105877Z",
     "iopub.status.busy": "2021-06-25T17:23:52.104654Z",
     "iopub.status.idle": "2021-06-25T17:23:52.107491Z",
     "shell.execute_reply": "2021-06-25T17:23:52.107068Z"
    },
    "papermill": {
     "duration": 0.023167,
     "end_time": "2021-06-25T17:23:52.107595",
     "exception": false,
     "start_time": "2021-06-25T17:23:52.084428",
     "status": "completed"
    },
    "tags": []
   },
   "outputs": [],
   "source": [
    "def convert_line(row, max_seq_length, tokenizer, model_name='bert'):\n",
    "    guid = row['id']\n",
    "    text_a = row['comment_text']\n",
    "\n",
    "    if 'label' in row.keys():\n",
    "        label = row['label']\n",
    "    else:\n",
    "        label = None\n",
    "\n",
    "    tokens_a = tokenizer.tokenize(text_a)\n",
    "\n",
    "    if 'bert' in model_name:\n",
    "        if len(tokens_a) > max_seq_length - 2:\n",
    "            tokens_a = tokens_a[:(max_seq_length - 2)]\n",
    "        tokens = [\"[CLS]\"] + tokens_a + [\"[SEP]\"]\n",
    "        input_ids = tokenizer.convert_tokens_to_ids(tokens)\n",
    "    else:\n",
    "        if len(tokens_a) > max_seq_length:\n",
    "            tokens_a = tokens_a[:max_seq_length]\n",
    "        tokens = tokens_a\n",
    "        input_ids = tokenizer.convert_tokens_to_ids(tokens_a)\n",
    "\n",
    "    segment_ids = [0] * len(tokens)\n",
    "    input_mask = [1] * len(input_ids)\n",
    "\n",
    "    padding = [0] * (max_seq_length - len(input_ids))\n",
    "    input_ids += padding\n",
    "    input_mask += padding\n",
    "    segment_ids += padding\n",
    "\n",
    "    return input_ids, input_mask, segment_ids, label"
   ]
  },
  {
   "cell_type": "code",
   "execution_count": 7,
   "id": "understood-enforcement",
   "metadata": {
    "execution": {
     "iopub.execute_input": "2021-06-25T17:23:52.141344Z",
     "iopub.status.busy": "2021-06-25T17:23:52.140093Z",
     "iopub.status.idle": "2021-06-25T17:23:52.142870Z",
     "shell.execute_reply": "2021-06-25T17:23:52.142438Z"
    },
    "papermill": {
     "duration": 0.021541,
     "end_time": "2021-06-25T17:23:52.142970",
     "exception": false,
     "start_time": "2021-06-25T17:23:52.121429",
     "status": "completed"
    },
    "tags": []
   },
   "outputs": [],
   "source": [
    "def preprocess(x):\n",
    "    for k, v in CONTRACTION_MAPPING.items():\n",
    "        x = x.replace(' %s ' % k, ' %s ' % v)\n",
    "    x = x.translate(remove_dict)\n",
    "    x = x.translate(isolate_dict)\n",
    "    x = Ttokenizer.tokenize(x)\n",
    "    x = [x_[1:] if x_.startswith(\"'\") else x_ for x_ in x]\n",
    "    x = ' '.join(x)\n",
    "    return x"
   ]
  },
  {
   "cell_type": "code",
   "execution_count": 8,
   "id": "valued-python",
   "metadata": {
    "execution": {
     "iopub.execute_input": "2021-06-25T17:23:52.177240Z",
     "iopub.status.busy": "2021-06-25T17:23:52.176634Z",
     "iopub.status.idle": "2021-06-25T17:23:52.180610Z",
     "shell.execute_reply": "2021-06-25T17:23:52.180045Z"
    },
    "papermill": {
     "duration": 0.023667,
     "end_time": "2021-06-25T17:23:52.180756",
     "exception": false,
     "start_time": "2021-06-25T17:23:52.157089",
     "status": "completed"
    },
    "tags": []
   },
   "outputs": [
    {
     "name": "stdout",
     "output_type": "stream",
     "text": [
      "Def functions done! Time past 3.08 secs\n"
     ]
    }
   ],
   "source": [
    "def get_input_data(test_data):\n",
    "    all_input_ids, all_input_mask,  all_segment_ids, all_label_ids = [], [], [], []\n",
    "    for i, (input_ids, input_mask, segment_ids, label) in test_data.items():\n",
    "        all_input_ids.append(input_ids)\n",
    "        all_input_mask.append(input_mask)\n",
    "        all_segment_ids.append(segment_ids)\n",
    "        all_label_ids.append(label)\n",
    "    all_input_ids = torch.tensor(all_input_ids, dtype=torch.long)\n",
    "    all_input_mask = torch.tensor(all_input_mask, dtype=torch.long)\n",
    "    all_segment_ids = torch.tensor(all_segment_ids, dtype=torch.long)\n",
    "    try:\n",
    "        all_label_ids = torch.tensor(all_label_ids, dtype=torch.float32)\n",
    "    except:\n",
    "        pass\n",
    "    \n",
    "    return all_input_ids, all_input_mask,  all_segment_ids, all_label_ids\n",
    "\n",
    "print('Def functions done! Time past %.2f secs' % (time.time() - start_time))"
   ]
  },
  {
   "cell_type": "code",
   "execution_count": 9,
   "id": "defensive-annual",
   "metadata": {
    "execution": {
     "iopub.execute_input": "2021-06-25T17:23:52.217068Z",
     "iopub.status.busy": "2021-06-25T17:23:52.216576Z",
     "iopub.status.idle": "2021-06-25T17:24:33.644991Z",
     "shell.execute_reply": "2021-06-25T17:24:33.645414Z"
    },
    "papermill": {
     "duration": 41.449697,
     "end_time": "2021-06-25T17:24:33.645558",
     "exception": false,
     "start_time": "2021-06-25T17:23:52.195861",
     "status": "completed"
    },
    "tags": []
   },
   "outputs": [
    {
     "name": "stdout",
     "output_type": "stream",
     "text": [
      "Loading data...\n",
      "Preprocessing...\n",
      "Done! Time past 44.53 secs\n"
     ]
    }
   ],
   "source": [
    "print('Loading data...')\n",
    "df = pd.read_csv('../input/jigsaw-unintended-bias-in-toxicity-classification/test.csv')\n",
    "if debug:\n",
    "    df = df.loc[:25]\n",
    "test_ids = df['id'].tolist()\n",
    "df['comment_text'] = df['comment_text'].astype(str)\n",
    "print('Preprocessing...')\n",
    "df['comment_text'] = apply_by_multiprocessing(df['comment_text'], preprocess, workers=4)\n",
    "print('Done! Time past %.2f secs' % (time.time() - start_time))"
   ]
  },
  {
   "cell_type": "markdown",
   "id": "respiratory-holder",
   "metadata": {
    "papermill": {
     "duration": 0.014913,
     "end_time": "2021-06-25T17:24:33.675668",
     "exception": false,
     "start_time": "2021-06-25T17:24:33.660755",
     "status": "completed"
    },
    "tags": []
   },
   "source": [
    "## Bert Small V2 29bin 300seq NAUX"
   ]
  },
  {
   "cell_type": "code",
   "execution_count": 10,
   "id": "stable-district",
   "metadata": {
    "execution": {
     "iopub.execute_input": "2021-06-25T17:24:33.740075Z",
     "iopub.status.busy": "2021-06-25T17:24:33.739264Z",
     "iopub.status.idle": "2021-06-25T17:34:53.175054Z",
     "shell.execute_reply": "2021-06-25T17:34:53.174525Z"
    },
    "papermill": {
     "duration": 619.484492,
     "end_time": "2021-06-25T17:34:53.175261",
     "exception": false,
     "start_time": "2021-06-25T17:24:33.690769",
     "status": "completed"
    },
    "tags": []
   },
   "outputs": [
    {
     "name": "stdout",
     "output_type": "stream",
     "text": [
      "Converting data to sequences...\n"
     ]
    },
    {
     "name": "stderr",
     "output_type": "stream",
     "text": [
      "/opt/conda/lib/python3.7/site-packages/ipykernel_launcher.py:9: UserWarning: This overload of nonzero is deprecated:\n",
      "\tnonzero()\n",
      "Consider using one of the following signatures instead:\n",
      "\tnonzero(*, bool as_tuple) (Triggered internally at  /opt/conda/conda-bld/pytorch_1603729047590/work/torch/csrc/utils/python_arg_parser.cpp:882.)\n",
      "  if __name__ == '__main__':\n"
     ]
    },
    {
     "name": "stdout",
     "output_type": "stream",
     "text": [
      "Done! Time past 168.01 secs\n",
      "Loading model from ../input/jigsawmodels/bert_small_v2_29bin_naus_300seq/bert_small_v2_29bin_naus_300seq/ ...\n",
      "Done! Time past 182.40 secs\n",
      "Predicting model Bert Small...\n"
     ]
    },
    {
     "name": "stderr",
     "output_type": "stream",
     "text": [
      "100%|██████████| 589/589 [04:08<00:00,  2.37it/s]\n",
      "100%|██████████| 172/172 [03:52<00:00,  1.35s/it]"
     ]
    },
    {
     "name": "stdout",
     "output_type": "stream",
     "text": [
      "Done! Time past 664.08 secs\n"
     ]
    },
    {
     "name": "stderr",
     "output_type": "stream",
     "text": [
      "\n"
     ]
    }
   ],
   "source": [
    "try:\n",
    "    model_dir = '../input/jigsawmodels/bert_small_v2_29bin_naus_300seq/bert_small_v2_29bin_naus_300seq/'\n",
    "    max_seq_length = 300\n",
    "    short_length = 100\n",
    "    tokenizer = BertTokenizer.from_pretrained(model_dir, do_lower_case=True)\n",
    "    print('Converting data to sequences...')\n",
    "    test_data = apply_by_multiprocessing(df, convert_line, axis=1, max_seq_length=max_seq_length, tokenizer=tokenizer, model_name='bert', workers=4)  # takes 2 mins\n",
    "    all_input_ids, all_input_mask,  all_segment_ids, all_label_ids = get_input_data(test_data)\n",
    "    long_idx = (all_input_ids[:, short_length-max_seq_length:].sum(1) > 0).nonzero().squeeze().numpy()\n",
    "    short_idx = (all_input_ids[:, short_length-max_seq_length:].sum(1) == 0).nonzero().squeeze().numpy()\n",
    "    print('Done! Time past %.2f secs' % (time.time() - start_time))\n",
    "\n",
    "    # Load a trained model and vocabulary that you have fine-tuned\n",
    "    print('Loading model from %s ...' % model_dir)\n",
    "    bert_config = BertConfig(os.path.join(model_dir, 'config.json'))\n",
    "    model = BertForJigsaw(bert_config, out_dim=29+6)  # with NAUX\n",
    "    model.load_state_dict(torch.load('%s/pytorch_model.bin' % model_dir))\n",
    "    model.to(device)\n",
    "    model.eval()\n",
    "    print('Done! Time past %.2f secs' % (time.time() - start_time))\n",
    "\n",
    "    print('Predicting model Bert Small...')\n",
    "    predictions_bert_small = np.zeros(df.shape[0])\n",
    "    with torch.no_grad():\n",
    "        for i, idx in enumerate([short_idx, long_idx]):\n",
    "            test_data = TensorDataset(all_input_ids[idx], all_input_mask[idx], all_segment_ids[idx]) if i == 1 else \\\n",
    "                        TensorDataset(all_input_ids[idx, :short_length], all_input_mask[idx, :short_length], all_segment_ids[idx, :short_length])\n",
    "            test_sampler = SequentialSampler(test_data)\n",
    "            test_dataloader = DataLoader(test_data, sampler=test_sampler, batch_size=128)\n",
    "\n",
    "            pred = []\n",
    "            for input_ids, input_mask, segment_ids in tqdm(test_dataloader):\n",
    "                input_ids = input_ids.to(device)\n",
    "                input_mask = input_mask.to(device)\n",
    "                segment_ids = segment_ids.to(device)\n",
    "\n",
    "                logits = model(input_ids, segment_ids, input_mask, labels=None)\n",
    "                logits = torch.sigmoid(logits).detach().cpu().numpy()\n",
    "                pred.append(logits[:, :-6])  # remove NAUX\n",
    "            predictions_bert_small[idx] = np.vstack(pred).mean(1)\n",
    "\n",
    "    print('Done! Time past %.2f secs' % (time.time() - start_time))\n",
    "except:\n",
    "    print('Something wrong with Bert Small.')\n",
    "    traceback.print_exc()"
   ]
  },
  {
   "cell_type": "markdown",
   "id": "northern-louisiana",
   "metadata": {
    "papermill": {
     "duration": 0.209346,
     "end_time": "2021-06-25T17:34:53.592353",
     "exception": false,
     "start_time": "2021-06-25T17:34:53.383007",
     "status": "completed"
    },
    "tags": []
   },
   "source": [
    "## Bert Large V2 99bin 250seq"
   ]
  },
  {
   "cell_type": "code",
   "execution_count": 11,
   "id": "hollow-benchmark",
   "metadata": {
    "execution": {
     "iopub.execute_input": "2021-06-25T17:34:54.028764Z",
     "iopub.status.busy": "2021-06-25T17:34:54.028135Z",
     "iopub.status.idle": "2021-06-25T18:00:40.220144Z",
     "shell.execute_reply": "2021-06-25T18:00:40.223218Z"
    },
    "papermill": {
     "duration": 1546.417399,
     "end_time": "2021-06-25T18:00:40.223461",
     "exception": false,
     "start_time": "2021-06-25T17:34:53.806062",
     "status": "completed"
    },
    "tags": []
   },
   "outputs": [
    {
     "name": "stdout",
     "output_type": "stream",
     "text": [
      "Converting data to sequences...\n",
      "Done! Time past 783.48 secs\n",
      "Loading model from ../input/jigsawmodels/bert_large_v2_99bin_250seq/bert_large_v2_99bin_250seq/ ...\n",
      "Done! Time past 809.28 secs\n",
      "Predicting model Bert Large\n"
     ]
    },
    {
     "name": "stderr",
     "output_type": "stream",
     "text": [
      "100%|██████████| 1178/1178 [13:33<00:00,  1.45it/s]\n",
      "100%|██████████| 344/344 [09:47<00:00,  1.71s/it]"
     ]
    },
    {
     "name": "stdout",
     "output_type": "stream",
     "text": [
      "Done! Time past 2211.12 secs\n"
     ]
    },
    {
     "name": "stderr",
     "output_type": "stream",
     "text": [
      "\n"
     ]
    }
   ],
   "source": [
    "try:\n",
    "    model_dir = '../input/jigsawmodels/bert_large_v2_99bin_250seq/bert_large_v2_99bin_250seq/'\n",
    "    max_seq_length = 250\n",
    "    short_length = 100\n",
    "    tokenizer = BertTokenizer.from_pretrained(model_dir, do_lower_case=True)\n",
    "    print('Converting data to sequences...')\n",
    "    test_data = apply_by_multiprocessing(df, convert_line, axis=1, max_seq_length=max_seq_length, tokenizer=tokenizer, model_name='bert', workers=4)  # takes 2 mins\n",
    "    all_input_ids, all_input_mask,  all_segment_ids, all_label_ids = get_input_data(test_data)\n",
    "    long_idx = (all_input_ids[:, short_length-max_seq_length:].sum(1) > 0).nonzero().squeeze().numpy()\n",
    "    short_idx = (all_input_ids[:, short_length-max_seq_length:].sum(1) == 0).nonzero().squeeze().numpy()\n",
    "    print('Done! Time past %.2f secs' % (time.time() - start_time))\n",
    "\n",
    "    # Load a trained model and vocabulary that you have fine-tuned\n",
    "    print('Loading model from %s ...' % model_dir)\n",
    "    bert_config = BertConfig(os.path.join(model_dir, 'config.json'))\n",
    "    model = BertForJigsaw(bert_config, out_dim=99)\n",
    "    model.load_state_dict(torch.load('%s/pytorch_model.bin' % model_dir))\n",
    "    model.to(device)\n",
    "    model.eval()\n",
    "    print('Done! Time past %.2f secs' % (time.time() - start_time))\n",
    "\n",
    "    print('Predicting model Bert Large')\n",
    "    predictions_bert_large = np.zeros(df.shape[0])\n",
    "    with torch.no_grad():\n",
    "        for i, idx in enumerate([short_idx, long_idx]):\n",
    "            test_data = TensorDataset(all_input_ids[idx], all_input_mask[idx], all_segment_ids[idx]) if i == 1 else \\\n",
    "                        TensorDataset(all_input_ids[idx, :short_length], all_input_mask[idx, :short_length], all_segment_ids[idx, :short_length])\n",
    "            test_sampler = SequentialSampler(test_data)\n",
    "            test_dataloader = DataLoader(test_data, sampler=test_sampler, batch_size=64)\n",
    "\n",
    "            pred = []\n",
    "            for input_ids, input_mask, segment_ids in tqdm(test_dataloader):\n",
    "                input_ids = input_ids.to(device)\n",
    "                input_mask = input_mask.to(device)\n",
    "                segment_ids = segment_ids.to(device)\n",
    "\n",
    "                logits = model(input_ids, segment_ids, input_mask, labels=None)\n",
    "                logits = torch.sigmoid(logits).detach().cpu().numpy()\n",
    "                pred.append(logits)\n",
    "            predictions_bert_large[idx] = np.vstack(pred).mean(1)\n",
    "\n",
    "    print('Done! Time past %.2f secs' % (time.time() - start_time))\n",
    "except:\n",
    "    print('Something wrong with Bert Large.')\n",
    "    traceback.print_exc()"
   ]
  },
  {
   "cell_type": "markdown",
   "id": "innocent-monitor",
   "metadata": {
    "papermill": {
     "duration": 0.606982,
     "end_time": "2021-06-25T18:00:41.768360",
     "exception": false,
     "start_time": "2021-06-25T18:00:41.161378",
     "status": "completed"
    },
    "tags": []
   },
   "source": [
    "## XLNet 9bin 220seq"
   ]
  },
  {
   "cell_type": "code",
   "execution_count": 12,
   "id": "dense-hygiene",
   "metadata": {
    "execution": {
     "iopub.execute_input": "2021-06-25T18:00:43.262296Z",
     "iopub.status.busy": "2021-06-25T18:00:43.261584Z",
     "iopub.status.idle": "2021-06-25T18:54:50.569439Z",
     "shell.execute_reply": "2021-06-25T18:54:50.568833Z"
    },
    "papermill": {
     "duration": 3248.193371,
     "end_time": "2021-06-25T18:54:50.569582",
     "exception": false,
     "start_time": "2021-06-25T18:00:42.376211",
     "status": "completed"
    },
    "tags": []
   },
   "outputs": [
    {
     "name": "stderr",
     "output_type": "stream",
     "text": [
      "../input/pytorchpretrainedberthaqishen/pytorch-pretrained-bert/pytorch-pretrained-BERT/pytorch_pretrained_bert/tokenization_xlnet.py:124: ResourceWarning: unclosed file <_io.TextIOWrapper name='../input/jigsawmodels/xlnet_large_9bin_220seq/xlnet_large_9bin_220seq/special_tokens.txt' mode='r' encoding='utf-8'>\n",
      "  special_tokens = open(special_tokens_file, encoding='utf-8').read().split('\\n')[:-1]\n",
      "ResourceWarning: Enable tracemalloc to get the object allocation traceback\n",
      "466it [00:00, 2345.73it/s]"
     ]
    },
    {
     "name": "stdout",
     "output_type": "stream",
     "text": [
      "Converting to sequences...\n"
     ]
    },
    {
     "name": "stderr",
     "output_type": "stream",
     "text": [
      "97320it [00:43, 2241.70it/s]\n"
     ]
    },
    {
     "name": "stdout",
     "output_type": "stream",
     "text": [
      "Done! Time past 2262.83 secs\n",
      "Loading model from ../input/jigsawmodels/xlnet_large_9bin_220seq/xlnet_large_9bin_220seq/ ...\n"
     ]
    },
    {
     "name": "stderr",
     "output_type": "stream",
     "text": [
      "  0%|          | 0/3042 [00:00<?, ?it/s]"
     ]
    },
    {
     "name": "stdout",
     "output_type": "stream",
     "text": [
      "Done! Time past 2284.02 secs\n",
      "Predicting model xlnet_large_v2_9bin_220seq\n"
     ]
    },
    {
     "name": "stderr",
     "output_type": "stream",
     "text": [
      "100%|██████████| 3042/3042 [52:57<00:00,  1.04s/it]"
     ]
    },
    {
     "name": "stdout",
     "output_type": "stream",
     "text": [
      "Done! Time past 5461.47 secs\n"
     ]
    },
    {
     "name": "stderr",
     "output_type": "stream",
     "text": [
      "\n"
     ]
    }
   ],
   "source": [
    "try:\n",
    "    model_dir = '../input/jigsawmodels/xlnet_large_9bin_220seq/xlnet_large_9bin_220seq/'\n",
    "    max_seq_length = 220\n",
    "    tokenizer = XLNetTokenizer.from_pretrained(model_dir)\n",
    "    print('Converting to sequences...')\n",
    "    test_data = []\n",
    "    for i, row in tqdm(df.iterrows()):\n",
    "        test_data.append(convert_line(\n",
    "            row,\n",
    "            max_seq_length=max_seq_length,\n",
    "            tokenizer=tokenizer,\n",
    "            model_name='xlnet'\n",
    "        ))\n",
    "    test_data = pd.Series(test_data)\n",
    "    all_input_ids, all_input_mask,  all_segment_ids, all_label_ids = get_input_data(test_data)\n",
    "    print('Done! Time past %.2f secs' % (time.time() - start_time))\n",
    "\n",
    "    test_data = TensorDataset(all_input_ids, all_input_mask, all_segment_ids)\n",
    "    test_sampler = SequentialSampler(test_data)\n",
    "    test_dataloader = DataLoader(test_data, sampler=test_sampler, batch_size=32)\n",
    "\n",
    "    # Load a trained model and vocabulary that you have fine-tuned\n",
    "    print('Loading model from %s ...' % model_dir)\n",
    "    xlnet_config = XLNetConfig(os.path.join(model_dir, 'config.json'))\n",
    "    model = XLNetForJigSaw(xlnet_config, out_dim=9)\n",
    "    model.load_state_dict(torch.load('%s/pytorch_model.bin' % model_dir))\n",
    "    model.to(device)\n",
    "    model.eval()\n",
    "    print('Done! Time past %.2f secs' % (time.time() - start_time))\n",
    "\n",
    "    print('Predicting model xlnet_large_v2_9bin_220seq')\n",
    "    predictions_xlnet = []\n",
    "    with torch.no_grad():\n",
    "\n",
    "        for input_ids, input_mask, segment_ids in tqdm(test_dataloader):\n",
    "            input_ids = input_ids.to(device)\n",
    "            input_mask = input_mask.to(device)\n",
    "            segment_ids = segment_ids.to(device)\n",
    "\n",
    "            logits = model(input_ids)\n",
    "            logits = torch.sigmoid(logits).detach().cpu().numpy()\n",
    "            predictions_xlnet.append(logits)\n",
    "\n",
    "    predictions_xlnet = np.vstack(predictions_xlnet).mean(1)\n",
    "    print('Done! Time past %.2f secs' % (time.time() - start_time))\n",
    "except:\n",
    "    print('Something wrong with xlnet_large_v2_9bin_220seq.')\n",
    "    traceback.print_exc()"
   ]
  },
  {
   "cell_type": "markdown",
   "id": "nearby-tuner",
   "metadata": {
    "papermill": {
     "duration": 1.472997,
     "end_time": "2021-06-25T18:54:53.538743",
     "exception": false,
     "start_time": "2021-06-25T18:54:52.065746",
     "status": "completed"
    },
    "tags": []
   },
   "source": [
    "## GPT2 V2 29bin 350seq NAUX"
   ]
  },
  {
   "cell_type": "code",
   "execution_count": 13,
   "id": "adjacent-familiar",
   "metadata": {
    "execution": {
     "iopub.execute_input": "2021-06-25T18:54:56.540802Z",
     "iopub.status.busy": "2021-06-25T18:54:56.540276Z",
     "iopub.status.idle": "2021-06-25T19:18:49.529766Z",
     "shell.execute_reply": "2021-06-25T19:18:49.530482Z"
    },
    "papermill": {
     "duration": 1434.524315,
     "end_time": "2021-06-25T19:18:49.530817",
     "exception": false,
     "start_time": "2021-06-25T18:54:55.006502",
     "status": "completed"
    },
    "tags": []
   },
   "outputs": [
    {
     "name": "stdout",
     "output_type": "stream",
     "text": [
      "Converting data to sequences...\n"
     ]
    },
    {
     "name": "stderr",
     "output_type": "stream",
     "text": [
      "../input/pytorchpretrainedberthaqishen/pytorch-pretrained-bert/pytorch-pretrained-BERT/pytorch_pretrained_bert/tokenization_gpt2.py:145: ResourceWarning: unclosed file <_io.TextIOWrapper name='../input/jigsawmodels/gpt2_29bin_350seq_aus/gpt2_29bin_350seq_aus/special_tokens.txt' mode='r' encoding='utf-8'>\n",
      "  special_tokens = open(special_tokens_file, encoding='utf-8').read().split('\\n')[:-1]\n",
      "ResourceWarning: Enable tracemalloc to get the object allocation traceback\n",
      "../input/pytorchpretrainedberthaqishen/pytorch-pretrained-bert/pytorch-pretrained-BERT/pytorch_pretrained_bert/tokenization_gpt2.py:153: ResourceWarning: unclosed file <_io.TextIOWrapper name='../input/jigsawmodels/gpt2_29bin_350seq_aus/gpt2_29bin_350seq_aus/vocab.json' mode='r' encoding='utf-8'>\n",
      "  self.encoder = json.load(open(vocab_file, encoding='utf-8'))\n",
      "ResourceWarning: Enable tracemalloc to get the object allocation traceback\n",
      "../input/pytorchpretrainedberthaqishen/pytorch-pretrained-bert/pytorch-pretrained-BERT/pytorch_pretrained_bert/tokenization_gpt2.py:158: ResourceWarning: unclosed file <_io.TextIOWrapper name='../input/jigsawmodels/gpt2_29bin_350seq_aus/gpt2_29bin_350seq_aus/merges.txt' mode='r' encoding='utf-8'>\n",
      "  bpe_data = open(merges_file, encoding='utf-8').read().split('\\n')[1:-1]\n",
      "ResourceWarning: Enable tracemalloc to get the object allocation traceback\n"
     ]
    },
    {
     "name": "stdout",
     "output_type": "stream",
     "text": [
      "Done! Time past 5522.88 secs\n",
      "Loading model from ../input/jigsawmodels/gpt2_29bin_350seq_aus/gpt2_29bin_350seq_aus/ ...\n"
     ]
    },
    {
     "name": "stderr",
     "output_type": "stream",
     "text": [
      "  0%|          | 0/1521 [00:00<?, ?it/s]"
     ]
    },
    {
     "name": "stdout",
     "output_type": "stream",
     "text": [
      "Done! Time past 5533.49 secs\n",
      "Predicting model GPT2...\n"
     ]
    },
    {
     "name": "stderr",
     "output_type": "stream",
     "text": [
      "100%|██████████| 1521/1521 [22:46<00:00,  1.11it/s]"
     ]
    },
    {
     "name": "stdout",
     "output_type": "stream",
     "text": [
      "Done! Time past 6900.43 secs\n"
     ]
    },
    {
     "name": "stderr",
     "output_type": "stream",
     "text": [
      "\n"
     ]
    }
   ],
   "source": [
    "try:\n",
    "    model_dir = '../input/jigsawmodels/gpt2_29bin_350seq_aus/gpt2_29bin_350seq_aus/'\n",
    "    max_seq_length = 350\n",
    "    tokenizer = GPT2Tokenizer.from_pretrained(model_dir)\n",
    "    print('Converting data to sequences...')\n",
    "    test_data = apply_by_multiprocessing(df, convert_line, axis=1, max_seq_length=max_seq_length, tokenizer=tokenizer, model_name='gpt2', workers=4)  # takes 2 mins\n",
    "    all_input_ids, all_input_mask,  all_segment_ids, all_label_ids = get_input_data(test_data)\n",
    "    print('Done! Time past %.2f secs' % (time.time() - start_time))\n",
    "\n",
    "    test_data = TensorDataset(all_input_ids, all_input_mask, all_segment_ids)\n",
    "    test_sampler = SequentialSampler(test_data)\n",
    "    test_dataloader = DataLoader(test_data, sampler=test_sampler, batch_size=64)\n",
    "\n",
    "    # Load a trained model and vocabulary that you have fine-tuned\n",
    "    print('Loading model from %s ...' % model_dir)\n",
    "    gpt2_config = GPT2Config(os.path.join(model_dir, 'config.json'))\n",
    "    model = GPT2ClassificationHeadModel(gpt2_config, out_dim=29+6)  # with NAUX\n",
    "    model.load_state_dict(torch.load('%s/pytorch_model.bin' % model_dir))\n",
    "    model.to(device)\n",
    "    model.eval()\n",
    "    print('Done! Time past %.2f secs' % (time.time() - start_time))\n",
    "\n",
    "    print('Predicting model GPT2...')\n",
    "    predictions_gpt2 = []\n",
    "    with torch.no_grad():\n",
    "\n",
    "        for input_ids, input_mask, segment_ids in tqdm(test_dataloader):\n",
    "            \n",
    "            if (time.time() - start_time) > 7140:\n",
    "                print('STOP GPT2 FOR THE TIME SACK.')\n",
    "                break\n",
    "\n",
    "            input_ids = input_ids.to(device)\n",
    "            input_mask = input_mask.to(device)\n",
    "            segment_ids = segment_ids.to(device)\n",
    "\n",
    "            logits = model(\n",
    "                input_ids=input_ids,\n",
    "                token_type_ids=segment_ids,\n",
    "                attention_mask=input_mask,\n",
    "            )\n",
    "            logits = torch.sigmoid(logits).detach().cpu().numpy()\n",
    "            predictions_gpt2.append(logits[:, :-6])  # remove NAUX\n",
    "\n",
    "    predictions_gpt2 = np.vstack(predictions_gpt2).mean(1)\n",
    "    print('Done! Time past %.2f secs' % (time.time() - start_time))\n",
    "except:\n",
    "    print('Something wrong with GPT2:')\n",
    "    traceback.print_exc()\n",
    "    print('But the program is still running')"
   ]
  },
  {
   "cell_type": "markdown",
   "id": "excellent-hampshire",
   "metadata": {
    "papermill": {
     "duration": 1.946891,
     "end_time": "2021-06-25T19:18:53.416262",
     "exception": false,
     "start_time": "2021-06-25T19:18:51.469371",
     "status": "completed"
    },
    "tags": []
   },
   "source": [
    "## Output"
   ]
  },
  {
   "cell_type": "code",
   "execution_count": 14,
   "id": "seasonal-narrow",
   "metadata": {
    "execution": {
     "iopub.execute_input": "2021-06-25T19:18:57.280807Z",
     "iopub.status.busy": "2021-06-25T19:18:57.278293Z",
     "iopub.status.idle": "2021-06-25T19:18:57.283113Z",
     "shell.execute_reply": "2021-06-25T19:18:57.282640Z"
    },
    "papermill": {
     "duration": 1.937642,
     "end_time": "2021-06-25T19:18:57.283235",
     "exception": false,
     "start_time": "2021-06-25T19:18:55.345593",
     "status": "completed"
    },
    "tags": []
   },
   "outputs": [],
   "source": [
    "predictions = np.zeros(df.shape[0])\n",
    "\n",
    "try:\n",
    "    predictions += predictions_bert_small * 0.9\n",
    "except: pass\n",
    "\n",
    "try:\n",
    "    predictions += predictions_bert_large * 1.0 \n",
    "except: pass\n",
    "\n",
    "try:\n",
    "    predictions += predictions_gpt2 * 0.7\n",
    "except: pass\n",
    "\n",
    "try:\n",
    "    predictions += predictions_xlnet * 0.8\n",
    "except: pass"
   ]
  },
  {
   "cell_type": "code",
   "execution_count": 15,
   "id": "stopped-leisure",
   "metadata": {
    "execution": {
     "iopub.execute_input": "2021-06-25T19:19:01.778026Z",
     "iopub.status.busy": "2021-06-25T19:19:01.777463Z",
     "iopub.status.idle": "2021-06-25T19:19:02.263322Z",
     "shell.execute_reply": "2021-06-25T19:19:02.262867Z"
    },
    "papermill": {
     "duration": 2.559835,
     "end_time": "2021-06-25T19:19:02.263441",
     "exception": false,
     "start_time": "2021-06-25T19:18:59.703606",
     "status": "completed"
    },
    "tags": []
   },
   "outputs": [
    {
     "name": "stdout",
     "output_type": "stream",
     "text": [
      "Output done! Time past 6913.17 secs\n"
     ]
    }
   ],
   "source": [
    "df_prediction = pd.DataFrame({\n",
    "    'id': test_ids,\n",
    "    'prediction': predictions,\n",
    "})\n",
    "df_prediction.to_csv('./submission.csv', index=False)\n",
    "print('Output done! Time past %.2f secs' % (time.time() - start_time))"
   ]
  },
  {
   "cell_type": "code",
   "execution_count": 16,
   "id": "eastern-beads",
   "metadata": {
    "execution": {
     "iopub.execute_input": "2021-06-25T19:19:06.060441Z",
     "iopub.status.busy": "2021-06-25T19:19:06.059653Z",
     "iopub.status.idle": "2021-06-25T19:19:06.063170Z",
     "shell.execute_reply": "2021-06-25T19:19:06.063569Z"
    },
    "papermill": {
     "duration": 1.879631,
     "end_time": "2021-06-25T19:19:06.063713",
     "exception": false,
     "start_time": "2021-06-25T19:19:04.184082",
     "status": "completed"
    },
    "tags": []
   },
   "outputs": [
    {
     "name": "stdout",
     "output_type": "stream",
     "text": [
      "         id  prediction\n",
      "0   7097320    0.033548\n",
      "1   7097321    0.323419\n",
      "2   7097322    0.720957\n",
      "3   7097323    0.163971\n",
      "4   7097324    0.074378\n",
      "5   7097325    0.028733\n",
      "6   7097326    2.784101\n",
      "7   7097327    1.447162\n",
      "8   7097328    0.015274\n",
      "9   7097329    0.257397\n",
      "10  7097330    0.065558\n",
      "11  7097331    1.174090\n",
      "12  7097332    0.371684\n",
      "13  7097333    0.062194\n",
      "14  7097334    0.606756\n",
      "15  7097335    0.023541\n",
      "16  7097336    0.088089\n",
      "17  7097337    0.016890\n",
      "18  7097338    0.026258\n",
      "19  7097339    2.117447\n",
      "20  7097340    0.047244\n",
      "21  7097341    0.326539\n",
      "22  7097342    0.069543\n",
      "23  7097343    0.015998\n",
      "24  7097344    0.067549\n"
     ]
    }
   ],
   "source": [
    "print(df_prediction.head(25))"
   ]
  }
 ],
 "metadata": {
  "kernelspec": {
   "display_name": "Python 3",
   "language": "python",
   "name": "python3"
  },
  "language_info": {
   "codemirror_mode": {
    "name": "ipython",
    "version": 3
   },
   "file_extension": ".py",
   "mimetype": "text/x-python",
   "name": "python",
   "nbconvert_exporter": "python",
   "pygments_lexer": "ipython3",
   "version": "3.7.10"
  },
  "papermill": {
   "default_parameters": {},
   "duration": 6927.975522,
   "end_time": "2021-06-25T19:19:10.196687",
   "environment_variables": {},
   "exception": null,
   "input_path": "__notebook__.ipynb",
   "output_path": "__notebook__.ipynb",
   "parameters": {},
   "start_time": "2021-06-25T17:23:42.221165",
   "version": "2.3.3"
  }
 },
 "nbformat": 4,
 "nbformat_minor": 5
}
